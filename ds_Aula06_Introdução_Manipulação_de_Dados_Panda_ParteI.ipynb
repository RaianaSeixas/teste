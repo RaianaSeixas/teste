{
  "cells": [
    {
      "cell_type": "markdown",
      "metadata": {
        "id": "view-in-github",
        "colab_type": "text"
      },
      "source": [
        "<a href=\"https://colab.research.google.com/github/RaianaSeixas/teste/blob/main/ds_Aula06_Introdu%C3%A7%C3%A3o_Manipula%C3%A7%C3%A3o_de_Dados_Panda_ParteI.ipynb\" target=\"_parent\"><img src=\"https://colab.research.google.com/assets/colab-badge.svg\" alt=\"Open In Colab\"/></a>"
      ]
    },
    {
      "cell_type": "code",
      "execution_count": null,
      "metadata": {
        "id": "DywxjJGTNusY"
      },
      "outputs": [],
      "source": [
        "import pandas as pd\n",
        "import numpy as np"
      ]
    },
    {
      "cell_type": "markdown",
      "metadata": {
        "id": "k5lv7mkgM3q3"
      },
      "source": [
        "# Pandas Series"
      ]
    },
    {
      "cell_type": "code",
      "execution_count": null,
      "metadata": {
        "id": "hrFjXFVNMlNz",
        "outputId": "ba4f03b4-cce7-4d1c-fb31-5bc6adfed016"
      },
      "outputs": [
        {
          "name": "stdout",
          "output_type": "stream",
          "text": [
            "0    50\n",
            "1    52\n",
            "2    54\n",
            "3    56\n",
            "4    58\n",
            "5    60\n",
            "6    62\n",
            "7    64\n",
            "8    66\n",
            "9    68\n",
            "dtype: int64\n"
          ]
        }
      ],
      "source": [
        "# Criando uma série em pandas\n",
        "numeros = range(50, 70, 2)\n",
        "numeros_serie = pd.Series(numeros)\n",
        "print(numeros_serie)"
      ]
    },
    {
      "cell_type": "code",
      "execution_count": null,
      "metadata": {
        "id": "8t3pi27VPFr3",
        "outputId": "8d6a9547-fe5c-42b1-f6ee-864ed6a3684e"
      },
      "outputs": [
        {
          "data": {
            "text/plain": [
              "pandas.core.series.Series"
            ]
          },
          "execution_count": 3,
          "metadata": {},
          "output_type": "execute_result"
        }
      ],
      "source": [
        "type(numeros_serie)"
      ]
    },
    {
      "cell_type": "code",
      "execution_count": null,
      "metadata": {
        "id": "zuB3m3_EPLJG",
        "outputId": "32ff1f28-27e1-4f8e-e664-64aad621d55f"
      },
      "outputs": [
        {
          "data": {
            "text/plain": [
              "dtype('int64')"
            ]
          },
          "execution_count": 4,
          "metadata": {},
          "output_type": "execute_result"
        }
      ],
      "source": [
        "numeros_serie.dtype"
      ]
    },
    {
      "cell_type": "code",
      "execution_count": null,
      "metadata": {
        "id": "LV7wnX0FMlKv",
        "outputId": "c37bbc6f-94f5-463f-8cbd-451392b2330e"
      },
      "outputs": [
        {
          "data": {
            "text/plain": [
              "np.int64(60)"
            ]
          },
          "execution_count": 5,
          "metadata": {},
          "output_type": "execute_result"
        }
      ],
      "source": [
        "# verificando index\n",
        "numeros_serie[5]"
      ]
    },
    {
      "cell_type": "code",
      "execution_count": null,
      "metadata": {
        "id": "3QlqjG3XMlHv",
        "outputId": "6ab313da-5a09-4f76-8b49-931aaf58cd28"
      },
      "outputs": [
        {
          "data": {
            "text/plain": [
              "RangeIndex(start=0, stop=10, step=1)"
            ]
          },
          "execution_count": 6,
          "metadata": {},
          "output_type": "execute_result"
        }
      ],
      "source": [
        "# Listando o index\n",
        "numeros_serie.index"
      ]
    },
    {
      "cell_type": "code",
      "execution_count": null,
      "metadata": {
        "id": "jrXoTKrrMlEx",
        "outputId": "61a4eecc-1ef9-4887-a5ab-affe21990da1"
      },
      "outputs": [
        {
          "data": {
            "text/plain": [
              "array([50, 52, 54, 56, 58, 60, 62, 64, 66, 68])"
            ]
          },
          "execution_count": 7,
          "metadata": {},
          "output_type": "execute_result"
        }
      ],
      "source": [
        "# Listando os valores\n",
        "numeros_serie.values"
      ]
    },
    {
      "cell_type": "code",
      "execution_count": null,
      "metadata": {
        "id": "RdB-JQVWMlBw",
        "outputId": "0fde268b-d216-48bd-b199-1ab03e36925f"
      },
      "outputs": [
        {
          "data": {
            "text/plain": [
              "primeiro    50\n",
              "segundo     52\n",
              "terceiro    54\n",
              "quarto      56\n",
              "quinto      58\n",
              "sexto       60\n",
              "sétimo      62\n",
              "oitavo      64\n",
              "nono        66\n",
              "décimo      68\n",
              "dtype: int64"
            ]
          },
          "execution_count": 8,
          "metadata": {},
          "output_type": "execute_result"
        }
      ],
      "source": [
        "# Alterando o index\n",
        "numeros_em_texto = ['primeiro','segundo','terceiro','quarto','quinto','sexto','sétimo','oitavo','nono','décimo']\n",
        "numeros_serie_2 = pd.Series(numeros,index = numeros_em_texto)\n",
        "numeros_serie_2"
      ]
    },
    {
      "cell_type": "code",
      "execution_count": null,
      "metadata": {
        "id": "aB9kicg9Mk-w",
        "outputId": "a263d360-7fc3-4cb2-bb1a-62fa69600125"
      },
      "outputs": [
        {
          "data": {
            "text/html": [
              "<div>\n",
              "<style scoped>\n",
              "    .dataframe tbody tr th:only-of-type {\n",
              "        vertical-align: middle;\n",
              "    }\n",
              "\n",
              "    .dataframe tbody tr th {\n",
              "        vertical-align: top;\n",
              "    }\n",
              "\n",
              "    .dataframe thead th {\n",
              "        text-align: right;\n",
              "    }\n",
              "</style>\n",
              "<table border=\"1\" class=\"dataframe\">\n",
              "  <thead>\n",
              "    <tr style=\"text-align: right;\">\n",
              "      <th></th>\n",
              "      <th>index</th>\n",
              "      <th>0</th>\n",
              "    </tr>\n",
              "  </thead>\n",
              "  <tbody>\n",
              "    <tr>\n",
              "      <th>0</th>\n",
              "      <td>primeiro</td>\n",
              "      <td>50</td>\n",
              "    </tr>\n",
              "    <tr>\n",
              "      <th>1</th>\n",
              "      <td>segundo</td>\n",
              "      <td>52</td>\n",
              "    </tr>\n",
              "    <tr>\n",
              "      <th>2</th>\n",
              "      <td>terceiro</td>\n",
              "      <td>54</td>\n",
              "    </tr>\n",
              "    <tr>\n",
              "      <th>3</th>\n",
              "      <td>quarto</td>\n",
              "      <td>56</td>\n",
              "    </tr>\n",
              "    <tr>\n",
              "      <th>4</th>\n",
              "      <td>quinto</td>\n",
              "      <td>58</td>\n",
              "    </tr>\n",
              "    <tr>\n",
              "      <th>5</th>\n",
              "      <td>sexto</td>\n",
              "      <td>60</td>\n",
              "    </tr>\n",
              "    <tr>\n",
              "      <th>6</th>\n",
              "      <td>sétimo</td>\n",
              "      <td>62</td>\n",
              "    </tr>\n",
              "    <tr>\n",
              "      <th>7</th>\n",
              "      <td>oitavo</td>\n",
              "      <td>64</td>\n",
              "    </tr>\n",
              "    <tr>\n",
              "      <th>8</th>\n",
              "      <td>nono</td>\n",
              "      <td>66</td>\n",
              "    </tr>\n",
              "    <tr>\n",
              "      <th>9</th>\n",
              "      <td>décimo</td>\n",
              "      <td>68</td>\n",
              "    </tr>\n",
              "  </tbody>\n",
              "</table>\n",
              "</div>"
            ],
            "text/plain": [
              "      index   0\n",
              "0  primeiro  50\n",
              "1   segundo  52\n",
              "2  terceiro  54\n",
              "3    quarto  56\n",
              "4    quinto  58\n",
              "5     sexto  60\n",
              "6    sétimo  62\n",
              "7    oitavo  64\n",
              "8      nono  66\n",
              "9    décimo  68"
            ]
          },
          "execution_count": 9,
          "metadata": {},
          "output_type": "execute_result"
        }
      ],
      "source": [
        "# Convertendo index em coluna\n",
        "numeros_serie_3 = numeros_serie_2.reset_index()\n",
        "numeros_serie_3"
      ]
    },
    {
      "cell_type": "code",
      "execution_count": null,
      "metadata": {
        "id": "Byn7R9MSPcNx",
        "outputId": "aa50c992-750e-4557-c0e4-23c1bc3e3dd0"
      },
      "outputs": [
        {
          "data": {
            "text/plain": [
              "pandas.core.frame.DataFrame"
            ]
          },
          "execution_count": 10,
          "metadata": {},
          "output_type": "execute_result"
        }
      ],
      "source": [
        "# temos agora um Dataframe\n",
        "type(numeros_serie_3)"
      ]
    },
    {
      "cell_type": "code",
      "execution_count": null,
      "metadata": {
        "id": "MwCQZTxneZnu",
        "outputId": "f6288afd-cfcb-4475-a434-f33a39812a10"
      },
      "outputs": [
        {
          "data": {
            "text/html": [
              "<div>\n",
              "<style scoped>\n",
              "    .dataframe tbody tr th:only-of-type {\n",
              "        vertical-align: middle;\n",
              "    }\n",
              "\n",
              "    .dataframe tbody tr th {\n",
              "        vertical-align: top;\n",
              "    }\n",
              "\n",
              "    .dataframe thead th {\n",
              "        text-align: right;\n",
              "    }\n",
              "</style>\n",
              "<table border=\"1\" class=\"dataframe\">\n",
              "  <thead>\n",
              "    <tr style=\"text-align: right;\">\n",
              "      <th></th>\n",
              "      <th>0</th>\n",
              "    </tr>\n",
              "    <tr>\n",
              "      <th>index</th>\n",
              "      <th></th>\n",
              "    </tr>\n",
              "  </thead>\n",
              "  <tbody>\n",
              "    <tr>\n",
              "      <th>primeiro</th>\n",
              "      <td>50</td>\n",
              "    </tr>\n",
              "    <tr>\n",
              "      <th>segundo</th>\n",
              "      <td>52</td>\n",
              "    </tr>\n",
              "    <tr>\n",
              "      <th>terceiro</th>\n",
              "      <td>54</td>\n",
              "    </tr>\n",
              "    <tr>\n",
              "      <th>quarto</th>\n",
              "      <td>56</td>\n",
              "    </tr>\n",
              "    <tr>\n",
              "      <th>quinto</th>\n",
              "      <td>58</td>\n",
              "    </tr>\n",
              "    <tr>\n",
              "      <th>sexto</th>\n",
              "      <td>60</td>\n",
              "    </tr>\n",
              "    <tr>\n",
              "      <th>sétimo</th>\n",
              "      <td>62</td>\n",
              "    </tr>\n",
              "    <tr>\n",
              "      <th>oitavo</th>\n",
              "      <td>64</td>\n",
              "    </tr>\n",
              "    <tr>\n",
              "      <th>nono</th>\n",
              "      <td>66</td>\n",
              "    </tr>\n",
              "    <tr>\n",
              "      <th>décimo</th>\n",
              "      <td>68</td>\n",
              "    </tr>\n",
              "  </tbody>\n",
              "</table>\n",
              "</div>"
            ],
            "text/plain": [
              "           0\n",
              "index       \n",
              "primeiro  50\n",
              "segundo   52\n",
              "terceiro  54\n",
              "quarto    56\n",
              "quinto    58\n",
              "sexto     60\n",
              "sétimo    62\n",
              "oitavo    64\n",
              "nono      66\n",
              "décimo    68"
            ]
          },
          "execution_count": 11,
          "metadata": {},
          "output_type": "execute_result"
        }
      ],
      "source": [
        "numeros_serie_3.set_index('index')"
      ]
    },
    {
      "cell_type": "code",
      "execution_count": null,
      "metadata": {
        "id": "v4JpKlX2qieT",
        "outputId": "95e13fd1-7a18-4eea-ff80-8980c24319e2"
      },
      "outputs": [
        {
          "data": {
            "text/html": [
              "<div>\n",
              "<style scoped>\n",
              "    .dataframe tbody tr th:only-of-type {\n",
              "        vertical-align: middle;\n",
              "    }\n",
              "\n",
              "    .dataframe tbody tr th {\n",
              "        vertical-align: top;\n",
              "    }\n",
              "\n",
              "    .dataframe thead th {\n",
              "        text-align: right;\n",
              "    }\n",
              "</style>\n",
              "<table border=\"1\" class=\"dataframe\">\n",
              "  <thead>\n",
              "    <tr style=\"text-align: right;\">\n",
              "      <th></th>\n",
              "      <th>index</th>\n",
              "      <th>0</th>\n",
              "    </tr>\n",
              "  </thead>\n",
              "  <tbody>\n",
              "    <tr>\n",
              "      <th>0</th>\n",
              "      <td>primeiro</td>\n",
              "      <td>50</td>\n",
              "    </tr>\n",
              "    <tr>\n",
              "      <th>1</th>\n",
              "      <td>segundo</td>\n",
              "      <td>52</td>\n",
              "    </tr>\n",
              "    <tr>\n",
              "      <th>2</th>\n",
              "      <td>terceiro</td>\n",
              "      <td>54</td>\n",
              "    </tr>\n",
              "    <tr>\n",
              "      <th>3</th>\n",
              "      <td>quarto</td>\n",
              "      <td>56</td>\n",
              "    </tr>\n",
              "    <tr>\n",
              "      <th>4</th>\n",
              "      <td>quinto</td>\n",
              "      <td>58</td>\n",
              "    </tr>\n",
              "    <tr>\n",
              "      <th>5</th>\n",
              "      <td>sexto</td>\n",
              "      <td>60</td>\n",
              "    </tr>\n",
              "    <tr>\n",
              "      <th>6</th>\n",
              "      <td>sétimo</td>\n",
              "      <td>62</td>\n",
              "    </tr>\n",
              "    <tr>\n",
              "      <th>7</th>\n",
              "      <td>oitavo</td>\n",
              "      <td>64</td>\n",
              "    </tr>\n",
              "    <tr>\n",
              "      <th>8</th>\n",
              "      <td>nono</td>\n",
              "      <td>66</td>\n",
              "    </tr>\n",
              "    <tr>\n",
              "      <th>9</th>\n",
              "      <td>décimo</td>\n",
              "      <td>68</td>\n",
              "    </tr>\n",
              "  </tbody>\n",
              "</table>\n",
              "</div>"
            ],
            "text/plain": [
              "      index   0\n",
              "0  primeiro  50\n",
              "1   segundo  52\n",
              "2  terceiro  54\n",
              "3    quarto  56\n",
              "4    quinto  58\n",
              "5     sexto  60\n",
              "6    sétimo  62\n",
              "7    oitavo  64\n",
              "8      nono  66\n",
              "9    décimo  68"
            ]
          },
          "execution_count": 12,
          "metadata": {},
          "output_type": "execute_result"
        }
      ],
      "source": [
        "numeros_serie_3"
      ]
    },
    {
      "cell_type": "code",
      "execution_count": null,
      "metadata": {
        "id": "P6MI0QMyPppF",
        "outputId": "57b7ea4a-a24e-48bd-ec11-3532a6cbdb1c"
      },
      "outputs": [
        {
          "data": {
            "text/html": [
              "<div>\n",
              "<style scoped>\n",
              "    .dataframe tbody tr th:only-of-type {\n",
              "        vertical-align: middle;\n",
              "    }\n",
              "\n",
              "    .dataframe tbody tr th {\n",
              "        vertical-align: top;\n",
              "    }\n",
              "\n",
              "    .dataframe thead th {\n",
              "        text-align: right;\n",
              "    }\n",
              "</style>\n",
              "<table border=\"1\" class=\"dataframe\">\n",
              "  <thead>\n",
              "    <tr style=\"text-align: right;\">\n",
              "      <th></th>\n",
              "      <th>index</th>\n",
              "      <th>numeros</th>\n",
              "    </tr>\n",
              "  </thead>\n",
              "  <tbody>\n",
              "    <tr>\n",
              "      <th>0</th>\n",
              "      <td>primeiro</td>\n",
              "      <td>50</td>\n",
              "    </tr>\n",
              "    <tr>\n",
              "      <th>1</th>\n",
              "      <td>segundo</td>\n",
              "      <td>52</td>\n",
              "    </tr>\n",
              "    <tr>\n",
              "      <th>2</th>\n",
              "      <td>terceiro</td>\n",
              "      <td>54</td>\n",
              "    </tr>\n",
              "    <tr>\n",
              "      <th>3</th>\n",
              "      <td>quarto</td>\n",
              "      <td>56</td>\n",
              "    </tr>\n",
              "    <tr>\n",
              "      <th>4</th>\n",
              "      <td>quinto</td>\n",
              "      <td>58</td>\n",
              "    </tr>\n",
              "    <tr>\n",
              "      <th>5</th>\n",
              "      <td>sexto</td>\n",
              "      <td>60</td>\n",
              "    </tr>\n",
              "    <tr>\n",
              "      <th>6</th>\n",
              "      <td>sétimo</td>\n",
              "      <td>62</td>\n",
              "    </tr>\n",
              "    <tr>\n",
              "      <th>7</th>\n",
              "      <td>oitavo</td>\n",
              "      <td>64</td>\n",
              "    </tr>\n",
              "    <tr>\n",
              "      <th>8</th>\n",
              "      <td>nono</td>\n",
              "      <td>66</td>\n",
              "    </tr>\n",
              "    <tr>\n",
              "      <th>9</th>\n",
              "      <td>décimo</td>\n",
              "      <td>68</td>\n",
              "    </tr>\n",
              "  </tbody>\n",
              "</table>\n",
              "</div>"
            ],
            "text/plain": [
              "      index  numeros\n",
              "0  primeiro       50\n",
              "1   segundo       52\n",
              "2  terceiro       54\n",
              "3    quarto       56\n",
              "4    quinto       58\n",
              "5     sexto       60\n",
              "6    sétimo       62\n",
              "7    oitavo       64\n",
              "8      nono       66\n",
              "9    décimo       68"
            ]
          },
          "execution_count": 13,
          "metadata": {},
          "output_type": "execute_result"
        }
      ],
      "source": [
        "numeros_serie_3 = numeros_serie_3.rename(columns={0: \"numeros\"})\n",
        "numeros_serie_3"
      ]
    },
    {
      "cell_type": "markdown",
      "metadata": {
        "id": "upqpzhJuMl5N"
      },
      "source": [
        "# Dataframe"
      ]
    },
    {
      "cell_type": "code",
      "execution_count": null,
      "metadata": {
        "id": "5IrGGDltJCat"
      },
      "outputs": [],
      "source": [
        "modelos = ['A4 3.0 Quattro 4dr manual',\n",
        "           'A4 3.0 Quattro 4dr auto',\n",
        "           'A6 3.0 4dr',\n",
        "           'A6 3.0 Quattro 4dr',\n",
        "           'A4 3.0 convertible 2dr']\n",
        "\n",
        "peso = [3583, 3627, 3561, 3880, 3814]\n",
        "\n",
        "precos = ['$33,430', '$34,480', '$36,640', '$39,640', '$42,490']"
      ]
    },
    {
      "cell_type": "code",
      "execution_count": null,
      "metadata": {
        "id": "nkceZ4GZJL_2"
      },
      "outputs": [],
      "source": [
        "Autos_peso = pd.Series(peso,index=modelos)\n",
        "Autos_preco = pd.Series(precos,index=modelos)"
      ]
    },
    {
      "cell_type": "code",
      "execution_count": null,
      "metadata": {
        "id": "BuIOaVuOJh2l",
        "outputId": "00c46e94-17e3-4732-c7ac-3f47b048f46b"
      },
      "outputs": [
        {
          "data": {
            "text/plain": [
              "A4 3.0 Quattro 4dr manual    $33,430\n",
              "A4 3.0 Quattro 4dr auto      $34,480\n",
              "A6 3.0 4dr                   $36,640\n",
              "A6 3.0 Quattro 4dr           $39,640\n",
              "A4 3.0 convertible 2dr       $42,490\n",
              "dtype: object"
            ]
          },
          "execution_count": 16,
          "metadata": {},
          "output_type": "execute_result"
        }
      ],
      "source": [
        "Autos_preco"
      ]
    },
    {
      "cell_type": "code",
      "execution_count": null,
      "metadata": {
        "id": "dWApSJZAJfij",
        "outputId": "e8cd512d-f851-4fb3-80bf-4f8a7388b5b3"
      },
      "outputs": [
        {
          "data": {
            "text/plain": [
              "A4 3.0 Quattro 4dr manual    3583\n",
              "A4 3.0 Quattro 4dr auto      3627\n",
              "A6 3.0 4dr                   3561\n",
              "A6 3.0 Quattro 4dr           3880\n",
              "A4 3.0 convertible 2dr       3814\n",
              "dtype: int64"
            ]
          },
          "execution_count": 17,
          "metadata": {},
          "output_type": "execute_result"
        }
      ],
      "source": [
        "Autos_peso"
      ]
    },
    {
      "cell_type": "code",
      "execution_count": null,
      "metadata": {
        "id": "Q0GRXWtSJkuN",
        "outputId": "9dc63809-7e1a-412c-b632-0e98e8621d08"
      },
      "outputs": [
        {
          "data": {
            "text/html": [
              "<div>\n",
              "<style scoped>\n",
              "    .dataframe tbody tr th:only-of-type {\n",
              "        vertical-align: middle;\n",
              "    }\n",
              "\n",
              "    .dataframe tbody tr th {\n",
              "        vertical-align: top;\n",
              "    }\n",
              "\n",
              "    .dataframe thead th {\n",
              "        text-align: right;\n",
              "    }\n",
              "</style>\n",
              "<table border=\"1\" class=\"dataframe\">\n",
              "  <thead>\n",
              "    <tr style=\"text-align: right;\">\n",
              "      <th></th>\n",
              "      <th>Peso</th>\n",
              "      <th>Preco</th>\n",
              "    </tr>\n",
              "  </thead>\n",
              "  <tbody>\n",
              "    <tr>\n",
              "      <th>A4 3.0 Quattro 4dr manual</th>\n",
              "      <td>3583</td>\n",
              "      <td>$33,430</td>\n",
              "    </tr>\n",
              "    <tr>\n",
              "      <th>A4 3.0 Quattro 4dr auto</th>\n",
              "      <td>3627</td>\n",
              "      <td>$34,480</td>\n",
              "    </tr>\n",
              "    <tr>\n",
              "      <th>A6 3.0 4dr</th>\n",
              "      <td>3561</td>\n",
              "      <td>$36,640</td>\n",
              "    </tr>\n",
              "    <tr>\n",
              "      <th>A6 3.0 Quattro 4dr</th>\n",
              "      <td>3880</td>\n",
              "      <td>$39,640</td>\n",
              "    </tr>\n",
              "    <tr>\n",
              "      <th>A4 3.0 convertible 2dr</th>\n",
              "      <td>3814</td>\n",
              "      <td>$42,490</td>\n",
              "    </tr>\n",
              "  </tbody>\n",
              "</table>\n",
              "</div>"
            ],
            "text/plain": [
              "                           Peso    Preco\n",
              "A4 3.0 Quattro 4dr manual  3583  $33,430\n",
              "A4 3.0 Quattro 4dr auto    3627  $34,480\n",
              "A6 3.0 4dr                 3561  $36,640\n",
              "A6 3.0 Quattro 4dr         3880  $39,640\n",
              "A4 3.0 convertible 2dr     3814  $42,490"
            ]
          },
          "execution_count": 18,
          "metadata": {},
          "output_type": "execute_result"
        }
      ],
      "source": [
        "Autos = pd.DataFrame({'Peso':Autos_peso,'Preco':Autos_preco})\n",
        "Autos"
      ]
    },
    {
      "cell_type": "code",
      "execution_count": null,
      "metadata": {
        "id": "xtpy_uQ_Zk4C",
        "outputId": "1de150f1-a59e-4636-df80-bf947d77cc38"
      },
      "outputs": [
        {
          "data": {
            "text/plain": [
              "dict"
            ]
          },
          "execution_count": 19,
          "metadata": {},
          "output_type": "execute_result"
        }
      ],
      "source": [
        "# Note que temos um dict\n",
        "type({'Peso':Autos_peso,'Preco':Autos_preco})"
      ]
    },
    {
      "cell_type": "code",
      "execution_count": null,
      "metadata": {
        "id": "fAQAt5xQVJuO",
        "outputId": "2307495c-0d61-4cd0-80ca-be0f2483b0ab"
      },
      "outputs": [
        {
          "data": {
            "text/plain": [
              "Index(['A4 3.0 Quattro 4dr manual', 'A4 3.0 Quattro 4dr auto', 'A6 3.0 4dr',\n",
              "       'A6 3.0 Quattro 4dr', 'A4 3.0 convertible 2dr'],\n",
              "      dtype='object')"
            ]
          },
          "execution_count": 20,
          "metadata": {},
          "output_type": "execute_result"
        }
      ],
      "source": [
        "Autos.index"
      ]
    },
    {
      "cell_type": "code",
      "execution_count": null,
      "metadata": {
        "id": "VIWDZBkUWIYX",
        "outputId": "cb5f181b-8f2c-46db-f39c-f23b1055593f"
      },
      "outputs": [
        {
          "data": {
            "text/plain": [
              "Index(['Peso', 'Preco'], dtype='object')"
            ]
          },
          "execution_count": 21,
          "metadata": {},
          "output_type": "execute_result"
        }
      ],
      "source": [
        "Autos.columns"
      ]
    },
    {
      "cell_type": "code",
      "execution_count": null,
      "metadata": {
        "id": "4xhLXsPLWLPn",
        "outputId": "67eec1c0-8d08-4056-c9f8-4bf595eb1321"
      },
      "outputs": [
        {
          "data": {
            "text/plain": [
              "array([[3583, '$33,430'],\n",
              "       [3627, '$34,480'],\n",
              "       [3561, '$36,640'],\n",
              "       [3880, '$39,640'],\n",
              "       [3814, '$42,490']], dtype=object)"
            ]
          },
          "execution_count": 22,
          "metadata": {},
          "output_type": "execute_result"
        }
      ],
      "source": [
        "Autos.values"
      ]
    },
    {
      "cell_type": "code",
      "execution_count": null,
      "metadata": {
        "id": "5ersqFhjWNlu",
        "outputId": "d24f22ef-2e15-42b4-e736-0d643a3d5382"
      },
      "outputs": [
        {
          "data": {
            "text/plain": [
              "numpy.ndarray"
            ]
          },
          "execution_count": 23,
          "metadata": {},
          "output_type": "execute_result"
        }
      ],
      "source": [
        "type(Autos.values)"
      ]
    },
    {
      "cell_type": "code",
      "execution_count": null,
      "metadata": {
        "id": "rz8Yjjf-s9NM",
        "outputId": "3781da81-f030-4b09-9a4a-f379a12f4d40"
      },
      "outputs": [
        {
          "data": {
            "text/html": [
              "<div>\n",
              "<style scoped>\n",
              "    .dataframe tbody tr th:only-of-type {\n",
              "        vertical-align: middle;\n",
              "    }\n",
              "\n",
              "    .dataframe tbody tr th {\n",
              "        vertical-align: top;\n",
              "    }\n",
              "\n",
              "    .dataframe thead th {\n",
              "        text-align: right;\n",
              "    }\n",
              "</style>\n",
              "<table border=\"1\" class=\"dataframe\">\n",
              "  <thead>\n",
              "    <tr style=\"text-align: right;\">\n",
              "      <th></th>\n",
              "      <th>Peso</th>\n",
              "      <th>Preco</th>\n",
              "    </tr>\n",
              "  </thead>\n",
              "  <tbody>\n",
              "    <tr>\n",
              "      <th>A4 3.0 Quattro 4dr manual</th>\n",
              "      <td>3583</td>\n",
              "      <td>$33,430</td>\n",
              "    </tr>\n",
              "    <tr>\n",
              "      <th>A4 3.0 Quattro 4dr auto</th>\n",
              "      <td>3627</td>\n",
              "      <td>$34,480</td>\n",
              "    </tr>\n",
              "    <tr>\n",
              "      <th>A6 3.0 4dr</th>\n",
              "      <td>3561</td>\n",
              "      <td>$36,640</td>\n",
              "    </tr>\n",
              "    <tr>\n",
              "      <th>A6 3.0 Quattro 4dr</th>\n",
              "      <td>3880</td>\n",
              "      <td>$39,640</td>\n",
              "    </tr>\n",
              "    <tr>\n",
              "      <th>A4 3.0 convertible 2dr</th>\n",
              "      <td>3814</td>\n",
              "      <td>$42,490</td>\n",
              "    </tr>\n",
              "  </tbody>\n",
              "</table>\n",
              "</div>"
            ],
            "text/plain": [
              "                           Peso    Preco\n",
              "A4 3.0 Quattro 4dr manual  3583  $33,430\n",
              "A4 3.0 Quattro 4dr auto    3627  $34,480\n",
              "A6 3.0 4dr                 3561  $36,640\n",
              "A6 3.0 Quattro 4dr         3880  $39,640\n",
              "A4 3.0 convertible 2dr     3814  $42,490"
            ]
          },
          "execution_count": 24,
          "metadata": {},
          "output_type": "execute_result"
        }
      ],
      "source": [
        "Autos"
      ]
    },
    {
      "cell_type": "code",
      "execution_count": null,
      "metadata": {
        "id": "Ccqw_gsFe-GI",
        "outputId": "57c28f6f-c784-4fe2-9eb9-e0dd3b0a421d"
      },
      "outputs": [
        {
          "name": "stdout",
          "output_type": "stream",
          "text": [
            "<class 'pandas.core.frame.DataFrame'>\n",
            "Index: 5 entries, A4 3.0 Quattro 4dr manual to A4 3.0 convertible 2dr\n",
            "Data columns (total 2 columns):\n",
            " #   Column  Non-Null Count  Dtype \n",
            "---  ------  --------------  ----- \n",
            " 0   Peso    5 non-null      int64 \n",
            " 1   Preco   5 non-null      object\n",
            "dtypes: int64(1), object(1)\n",
            "memory usage: 292.0+ bytes\n"
          ]
        }
      ],
      "source": [
        "# Informações do Dataframe\n",
        "Autos.info()"
      ]
    },
    {
      "cell_type": "markdown",
      "metadata": {
        "id": "66QShXeCbvbp"
      },
      "source": [
        "# Filtros"
      ]
    },
    {
      "cell_type": "code",
      "execution_count": null,
      "metadata": {
        "colab": {
          "base_uri": "https://localhost:8080/",
          "height": 206
        },
        "id": "P30URyEFwkVc",
        "outputId": "1564e42a-396b-41d4-b2f1-46da708296ea"
      },
      "outputs": [
        {
          "data": {
            "text/html": [
              "<div>\n",
              "<style scoped>\n",
              "    .dataframe tbody tr th:only-of-type {\n",
              "        vertical-align: middle;\n",
              "    }\n",
              "\n",
              "    .dataframe tbody tr th {\n",
              "        vertical-align: top;\n",
              "    }\n",
              "\n",
              "    .dataframe thead th {\n",
              "        text-align: right;\n",
              "    }\n",
              "</style>\n",
              "<table border=\"1\" class=\"dataframe\">\n",
              "  <thead>\n",
              "    <tr style=\"text-align: right;\">\n",
              "      <th></th>\n",
              "      <th>Peso</th>\n",
              "      <th>Preco</th>\n",
              "    </tr>\n",
              "  </thead>\n",
              "  <tbody>\n",
              "    <tr>\n",
              "      <th>A4 3.0 Quattro 4dr manual</th>\n",
              "      <td>3583</td>\n",
              "      <td>$33,430</td>\n",
              "    </tr>\n",
              "    <tr>\n",
              "      <th>A4 3.0 Quattro 4dr auto</th>\n",
              "      <td>3627</td>\n",
              "      <td>$34,480</td>\n",
              "    </tr>\n",
              "    <tr>\n",
              "      <th>A6 3.0 4dr</th>\n",
              "      <td>3561</td>\n",
              "      <td>$36,640</td>\n",
              "    </tr>\n",
              "    <tr>\n",
              "      <th>A6 3.0 Quattro 4dr</th>\n",
              "      <td>3880</td>\n",
              "      <td>$39,640</td>\n",
              "    </tr>\n",
              "    <tr>\n",
              "      <th>A4 3.0 convertible 2dr</th>\n",
              "      <td>3814</td>\n",
              "      <td>$42,490</td>\n",
              "    </tr>\n",
              "  </tbody>\n",
              "</table>\n",
              "</div>"
            ],
            "text/plain": [
              "                           Peso    Preco\n",
              "A4 3.0 Quattro 4dr manual  3583  $33,430\n",
              "A4 3.0 Quattro 4dr auto    3627  $34,480\n",
              "A6 3.0 4dr                 3561  $36,640\n",
              "A6 3.0 Quattro 4dr         3880  $39,640\n",
              "A4 3.0 convertible 2dr     3814  $42,490"
            ]
          },
          "execution_count": 26,
          "metadata": {},
          "output_type": "execute_result"
        }
      ],
      "source": [
        "Autos"
      ]
    },
    {
      "cell_type": "code",
      "execution_count": null,
      "metadata": {
        "colab": {
          "base_uri": "https://localhost:8080/",
          "height": 241
        },
        "id": "4cduT5sJWNYH",
        "outputId": "75bf098a-48be-4cdc-b2f6-369faeae97b7"
      },
      "outputs": [
        {
          "data": {
            "text/plain": [
              "A4 3.0 Quattro 4dr manual    3583\n",
              "A4 3.0 Quattro 4dr auto      3627\n",
              "A6 3.0 4dr                   3561\n",
              "A6 3.0 Quattro 4dr           3880\n",
              "A4 3.0 convertible 2dr       3814\n",
              "Name: Peso, dtype: int64"
            ]
          },
          "execution_count": 27,
          "metadata": {},
          "output_type": "execute_result"
        }
      ],
      "source": [
        "# Seleção de coluna 1\n",
        "Autos['Peso']"
      ]
    },
    {
      "cell_type": "code",
      "execution_count": null,
      "metadata": {
        "colab": {
          "base_uri": "https://localhost:8080/",
          "height": 241
        },
        "id": "O2HSXHFZWgxn",
        "outputId": "0fd52b49-cb45-4499-ffaa-a0f84d61b805"
      },
      "outputs": [
        {
          "data": {
            "text/plain": [
              "A4 3.0 Quattro 4dr manual    3583\n",
              "A4 3.0 Quattro 4dr auto      3627\n",
              "A6 3.0 4dr                   3561\n",
              "A6 3.0 Quattro 4dr           3880\n",
              "A4 3.0 convertible 2dr       3814\n",
              "Name: Peso, dtype: int64"
            ]
          },
          "execution_count": 28,
          "metadata": {},
          "output_type": "execute_result"
        }
      ],
      "source": [
        "# Seleção de coluna 2\n",
        "Autos.Peso"
      ]
    },
    {
      "cell_type": "code",
      "execution_count": null,
      "metadata": {
        "colab": {
          "base_uri": "https://localhost:8080/",
          "height": 143
        },
        "id": "MSzjULhmWmv5",
        "outputId": "1d5308fb-5173-4ea7-8cbf-64497aca26d6"
      },
      "outputs": [
        {
          "data": {
            "text/html": [
              "<div>\n",
              "<style scoped>\n",
              "    .dataframe tbody tr th:only-of-type {\n",
              "        vertical-align: middle;\n",
              "    }\n",
              "\n",
              "    .dataframe tbody tr th {\n",
              "        vertical-align: top;\n",
              "    }\n",
              "\n",
              "    .dataframe thead th {\n",
              "        text-align: right;\n",
              "    }\n",
              "</style>\n",
              "<table border=\"1\" class=\"dataframe\">\n",
              "  <thead>\n",
              "    <tr style=\"text-align: right;\">\n",
              "      <th></th>\n",
              "      <th>Peso</th>\n",
              "    </tr>\n",
              "  </thead>\n",
              "  <tbody>\n",
              "    <tr>\n",
              "      <th>A4 3.0 Quattro 4dr manual</th>\n",
              "      <td>3583</td>\n",
              "    </tr>\n",
              "    <tr>\n",
              "      <th>A4 3.0 Quattro 4dr auto</th>\n",
              "      <td>3627</td>\n",
              "    </tr>\n",
              "    <tr>\n",
              "      <th>A6 3.0 4dr</th>\n",
              "      <td>3561</td>\n",
              "    </tr>\n",
              "  </tbody>\n",
              "</table>\n",
              "</div>"
            ],
            "text/plain": [
              "                           Peso\n",
              "A4 3.0 Quattro 4dr manual  3583\n",
              "A4 3.0 Quattro 4dr auto    3627\n",
              "A6 3.0 4dr                 3561"
            ]
          },
          "execution_count": 29,
          "metadata": {},
          "output_type": "execute_result"
        }
      ],
      "source": [
        "# Seleção de coluna 3\n",
        "Autos.iloc[0:3,0:1]"
      ]
    },
    {
      "cell_type": "code",
      "execution_count": null,
      "metadata": {
        "colab": {
          "base_uri": "https://localhost:8080/",
          "height": 209
        },
        "id": "nElJt1lSW8pg",
        "outputId": "cf7bcfc6-657d-4372-bc61-34f7868d0a14"
      },
      "outputs": [
        {
          "data": {
            "text/plain": [
              "A4 3.0 Quattro 4dr manual    3583\n",
              "A4 3.0 Quattro 4dr auto      3627\n",
              "A6 3.0 4dr                   3561\n",
              "A6 3.0 Quattro 4dr           3880\n",
              "Name: Peso, dtype: int64"
            ]
          },
          "execution_count": 30,
          "metadata": {},
          "output_type": "execute_result"
        }
      ],
      "source": [
        "# Seleção de coluna 4\n",
        "Autos.loc['A4 3.0 Quattro 4dr manual':'A6 3.0 Quattro 4dr', \"Peso\"]"
      ]
    },
    {
      "cell_type": "code",
      "execution_count": null,
      "metadata": {
        "id": "skVQSC8H20ws",
        "outputId": "cd87044b-4abf-4726-fee7-93b6b4a6fc98"
      },
      "outputs": [
        {
          "data": {
            "text/html": [
              "<div>\n",
              "<style scoped>\n",
              "    .dataframe tbody tr th:only-of-type {\n",
              "        vertical-align: middle;\n",
              "    }\n",
              "\n",
              "    .dataframe tbody tr th {\n",
              "        vertical-align: top;\n",
              "    }\n",
              "\n",
              "    .dataframe thead th {\n",
              "        text-align: right;\n",
              "    }\n",
              "</style>\n",
              "<table border=\"1\" class=\"dataframe\">\n",
              "  <thead>\n",
              "    <tr style=\"text-align: right;\">\n",
              "      <th></th>\n",
              "      <th>Peso</th>\n",
              "      <th>Preco</th>\n",
              "    </tr>\n",
              "  </thead>\n",
              "  <tbody>\n",
              "    <tr>\n",
              "      <th>A4 3.0 Quattro 4dr manual</th>\n",
              "      <td>3583</td>\n",
              "      <td>$33,430</td>\n",
              "    </tr>\n",
              "    <tr>\n",
              "      <th>A4 3.0 Quattro 4dr auto</th>\n",
              "      <td>3627</td>\n",
              "      <td>$34,480</td>\n",
              "    </tr>\n",
              "    <tr>\n",
              "      <th>A6 3.0 4dr</th>\n",
              "      <td>3561</td>\n",
              "      <td>$36,640</td>\n",
              "    </tr>\n",
              "    <tr>\n",
              "      <th>A6 3.0 Quattro 4dr</th>\n",
              "      <td>3880</td>\n",
              "      <td>$39,640</td>\n",
              "    </tr>\n",
              "    <tr>\n",
              "      <th>A4 3.0 convertible 2dr</th>\n",
              "      <td>3814</td>\n",
              "      <td>$42,490</td>\n",
              "    </tr>\n",
              "  </tbody>\n",
              "</table>\n",
              "</div>"
            ],
            "text/plain": [
              "                           Peso    Preco\n",
              "A4 3.0 Quattro 4dr manual  3583  $33,430\n",
              "A4 3.0 Quattro 4dr auto    3627  $34,480\n",
              "A6 3.0 4dr                 3561  $36,640\n",
              "A6 3.0 Quattro 4dr         3880  $39,640\n",
              "A4 3.0 convertible 2dr     3814  $42,490"
            ]
          },
          "execution_count": 31,
          "metadata": {},
          "output_type": "execute_result"
        }
      ],
      "source": [
        "Autos"
      ]
    },
    {
      "cell_type": "code",
      "execution_count": null,
      "metadata": {
        "colab": {
          "base_uri": "https://localhost:8080/",
          "height": 206
        },
        "id": "TNtLfnZ-XHKm",
        "outputId": "e3e81529-c994-4a90-b40d-968253006dff"
      },
      "outputs": [
        {
          "data": {
            "text/html": [
              "<div>\n",
              "<style scoped>\n",
              "    .dataframe tbody tr th:only-of-type {\n",
              "        vertical-align: middle;\n",
              "    }\n",
              "\n",
              "    .dataframe tbody tr th {\n",
              "        vertical-align: top;\n",
              "    }\n",
              "\n",
              "    .dataframe thead th {\n",
              "        text-align: right;\n",
              "    }\n",
              "</style>\n",
              "<table border=\"1\" class=\"dataframe\">\n",
              "  <thead>\n",
              "    <tr style=\"text-align: right;\">\n",
              "      <th></th>\n",
              "      <th>Peso</th>\n",
              "      <th>Preco</th>\n",
              "      <th>PesoX2</th>\n",
              "    </tr>\n",
              "  </thead>\n",
              "  <tbody>\n",
              "    <tr>\n",
              "      <th>A4 3.0 Quattro 4dr manual</th>\n",
              "      <td>3583</td>\n",
              "      <td>$33,430</td>\n",
              "      <td>7166</td>\n",
              "    </tr>\n",
              "    <tr>\n",
              "      <th>A4 3.0 Quattro 4dr auto</th>\n",
              "      <td>3627</td>\n",
              "      <td>$34,480</td>\n",
              "      <td>7254</td>\n",
              "    </tr>\n",
              "    <tr>\n",
              "      <th>A6 3.0 4dr</th>\n",
              "      <td>3561</td>\n",
              "      <td>$36,640</td>\n",
              "      <td>7122</td>\n",
              "    </tr>\n",
              "    <tr>\n",
              "      <th>A6 3.0 Quattro 4dr</th>\n",
              "      <td>3880</td>\n",
              "      <td>$39,640</td>\n",
              "      <td>7760</td>\n",
              "    </tr>\n",
              "    <tr>\n",
              "      <th>A4 3.0 convertible 2dr</th>\n",
              "      <td>3814</td>\n",
              "      <td>$42,490</td>\n",
              "      <td>7628</td>\n",
              "    </tr>\n",
              "  </tbody>\n",
              "</table>\n",
              "</div>"
            ],
            "text/plain": [
              "                           Peso    Preco  PesoX2\n",
              "A4 3.0 Quattro 4dr manual  3583  $33,430    7166\n",
              "A4 3.0 Quattro 4dr auto    3627  $34,480    7254\n",
              "A6 3.0 4dr                 3561  $36,640    7122\n",
              "A6 3.0 Quattro 4dr         3880  $39,640    7760\n",
              "A4 3.0 convertible 2dr     3814  $42,490    7628"
            ]
          },
          "execution_count": 32,
          "metadata": {},
          "output_type": "execute_result"
        }
      ],
      "source": [
        "# Adicionando uma coluna\n",
        "Autos['PesoX2'] = Autos['Peso']*2\n",
        "Autos"
      ]
    },
    {
      "cell_type": "code",
      "execution_count": null,
      "metadata": {
        "colab": {
          "base_uri": "https://localhost:8080/",
          "height": 206
        },
        "id": "BUXICM-LXp9X",
        "outputId": "9fff7590-2c5b-4722-b2e9-1974b278f7c3"
      },
      "outputs": [
        {
          "data": {
            "text/html": [
              "<div>\n",
              "<style scoped>\n",
              "    .dataframe tbody tr th:only-of-type {\n",
              "        vertical-align: middle;\n",
              "    }\n",
              "\n",
              "    .dataframe tbody tr th {\n",
              "        vertical-align: top;\n",
              "    }\n",
              "\n",
              "    .dataframe thead th {\n",
              "        text-align: right;\n",
              "    }\n",
              "</style>\n",
              "<table border=\"1\" class=\"dataframe\">\n",
              "  <thead>\n",
              "    <tr style=\"text-align: right;\">\n",
              "      <th></th>\n",
              "      <th>Peso</th>\n",
              "      <th>PesoX2</th>\n",
              "    </tr>\n",
              "  </thead>\n",
              "  <tbody>\n",
              "    <tr>\n",
              "      <th>A4 3.0 Quattro 4dr manual</th>\n",
              "      <td>3583</td>\n",
              "      <td>7166</td>\n",
              "    </tr>\n",
              "    <tr>\n",
              "      <th>A4 3.0 Quattro 4dr auto</th>\n",
              "      <td>3627</td>\n",
              "      <td>7254</td>\n",
              "    </tr>\n",
              "    <tr>\n",
              "      <th>A6 3.0 4dr</th>\n",
              "      <td>3561</td>\n",
              "      <td>7122</td>\n",
              "    </tr>\n",
              "    <tr>\n",
              "      <th>A6 3.0 Quattro 4dr</th>\n",
              "      <td>3880</td>\n",
              "      <td>7760</td>\n",
              "    </tr>\n",
              "    <tr>\n",
              "      <th>A4 3.0 convertible 2dr</th>\n",
              "      <td>3814</td>\n",
              "      <td>7628</td>\n",
              "    </tr>\n",
              "  </tbody>\n",
              "</table>\n",
              "</div>"
            ],
            "text/plain": [
              "                           Peso  PesoX2\n",
              "A4 3.0 Quattro 4dr manual  3583    7166\n",
              "A4 3.0 Quattro 4dr auto    3627    7254\n",
              "A6 3.0 4dr                 3561    7122\n",
              "A6 3.0 Quattro 4dr         3880    7760\n",
              "A4 3.0 convertible 2dr     3814    7628"
            ]
          },
          "execution_count": 33,
          "metadata": {},
          "output_type": "execute_result"
        }
      ],
      "source": [
        "# Selecionando mais de uma coluna por index\n",
        "Autos.iloc[:,[0,2]]"
      ]
    },
    {
      "cell_type": "code",
      "execution_count": null,
      "metadata": {
        "colab": {
          "base_uri": "https://localhost:8080/"
        },
        "id": "W89pldDdasCf",
        "outputId": "703f7f59-a307-4543-a25c-7c78254a0c0d"
      },
      "outputs": [
        {
          "data": {
            "text/plain": [
              "array([3583, 3627, 3561, 3880, 3814], dtype=object)"
            ]
          },
          "execution_count": 34,
          "metadata": {},
          "output_type": "execute_result"
        }
      ],
      "source": [
        "Autos.values[:,0]"
      ]
    },
    {
      "cell_type": "code",
      "execution_count": null,
      "metadata": {
        "colab": {
          "base_uri": "https://localhost:8080/"
        },
        "id": "s7IrNMRIbLyr",
        "outputId": "7a10cc14-a758-4327-ea12-17c2eaf3c653"
      },
      "outputs": [
        {
          "data": {
            "text/plain": [
              "array([3583, 3627, 3561, 3880, 3814], dtype=object)"
            ]
          },
          "execution_count": 35,
          "metadata": {},
          "output_type": "execute_result"
        }
      ],
      "source": [
        "Autos.values[:,0]"
      ]
    },
    {
      "cell_type": "code",
      "execution_count": null,
      "metadata": {
        "id": "oqkyBRXIbJnC",
        "outputId": "02992410-64b1-4abc-a24f-c333562455f7"
      },
      "outputs": [
        {
          "data": {
            "text/plain": [
              "Peso         3627\n",
              "Preco     $34,480\n",
              "PesoX2       7254\n",
              "Name: A4 3.0 Quattro 4dr auto, dtype: object"
            ]
          },
          "execution_count": 36,
          "metadata": {},
          "output_type": "execute_result"
        }
      ],
      "source": [
        "Autos.loc['A4 3.0 Quattro 4dr auto',]"
      ]
    },
    {
      "cell_type": "markdown",
      "metadata": {
        "id": "GicOkxprb0up"
      },
      "source": [
        "# Filtros lógicos"
      ]
    },
    {
      "cell_type": "markdown",
      "metadata": {
        "id": "HFc2L1_MdzEm"
      },
      "source": [
        "## --| >, <, <=, >="
      ]
    },
    {
      "cell_type": "code",
      "execution_count": null,
      "metadata": {
        "colab": {
          "base_uri": "https://localhost:8080/",
          "height": 206
        },
        "id": "SRZNMecMzgpT",
        "outputId": "347f33ce-4ebb-47aa-cd88-5ae09e3d6653"
      },
      "outputs": [
        {
          "data": {
            "text/html": [
              "<div>\n",
              "<style scoped>\n",
              "    .dataframe tbody tr th:only-of-type {\n",
              "        vertical-align: middle;\n",
              "    }\n",
              "\n",
              "    .dataframe tbody tr th {\n",
              "        vertical-align: top;\n",
              "    }\n",
              "\n",
              "    .dataframe thead th {\n",
              "        text-align: right;\n",
              "    }\n",
              "</style>\n",
              "<table border=\"1\" class=\"dataframe\">\n",
              "  <thead>\n",
              "    <tr style=\"text-align: right;\">\n",
              "      <th></th>\n",
              "      <th>Peso</th>\n",
              "      <th>Preco</th>\n",
              "      <th>PesoX2</th>\n",
              "    </tr>\n",
              "  </thead>\n",
              "  <tbody>\n",
              "    <tr>\n",
              "      <th>A4 3.0 Quattro 4dr manual</th>\n",
              "      <td>3583</td>\n",
              "      <td>$33,430</td>\n",
              "      <td>7166</td>\n",
              "    </tr>\n",
              "    <tr>\n",
              "      <th>A4 3.0 Quattro 4dr auto</th>\n",
              "      <td>3627</td>\n",
              "      <td>$34,480</td>\n",
              "      <td>7254</td>\n",
              "    </tr>\n",
              "    <tr>\n",
              "      <th>A6 3.0 4dr</th>\n",
              "      <td>3561</td>\n",
              "      <td>$36,640</td>\n",
              "      <td>7122</td>\n",
              "    </tr>\n",
              "    <tr>\n",
              "      <th>A6 3.0 Quattro 4dr</th>\n",
              "      <td>3880</td>\n",
              "      <td>$39,640</td>\n",
              "      <td>7760</td>\n",
              "    </tr>\n",
              "    <tr>\n",
              "      <th>A4 3.0 convertible 2dr</th>\n",
              "      <td>3814</td>\n",
              "      <td>$42,490</td>\n",
              "      <td>7628</td>\n",
              "    </tr>\n",
              "  </tbody>\n",
              "</table>\n",
              "</div>"
            ],
            "text/plain": [
              "                           Peso    Preco  PesoX2\n",
              "A4 3.0 Quattro 4dr manual  3583  $33,430    7166\n",
              "A4 3.0 Quattro 4dr auto    3627  $34,480    7254\n",
              "A6 3.0 4dr                 3561  $36,640    7122\n",
              "A6 3.0 Quattro 4dr         3880  $39,640    7760\n",
              "A4 3.0 convertible 2dr     3814  $42,490    7628"
            ]
          },
          "execution_count": 37,
          "metadata": {},
          "output_type": "execute_result"
        }
      ],
      "source": [
        "Autos"
      ]
    },
    {
      "cell_type": "code",
      "execution_count": null,
      "metadata": {
        "colab": {
          "base_uri": "https://localhost:8080/",
          "height": 143
        },
        "id": "K9dEx2xyYH-2",
        "outputId": "d389dc0b-1d28-4430-d8e1-84dee53590b7"
      },
      "outputs": [
        {
          "data": {
            "text/html": [
              "<div>\n",
              "<style scoped>\n",
              "    .dataframe tbody tr th:only-of-type {\n",
              "        vertical-align: middle;\n",
              "    }\n",
              "\n",
              "    .dataframe tbody tr th {\n",
              "        vertical-align: top;\n",
              "    }\n",
              "\n",
              "    .dataframe thead th {\n",
              "        text-align: right;\n",
              "    }\n",
              "</style>\n",
              "<table border=\"1\" class=\"dataframe\">\n",
              "  <thead>\n",
              "    <tr style=\"text-align: right;\">\n",
              "      <th></th>\n",
              "      <th>Peso</th>\n",
              "      <th>Preco</th>\n",
              "      <th>PesoX2</th>\n",
              "    </tr>\n",
              "  </thead>\n",
              "  <tbody>\n",
              "    <tr>\n",
              "      <th>A4 3.0 Quattro 4dr auto</th>\n",
              "      <td>3627</td>\n",
              "      <td>$34,480</td>\n",
              "      <td>7254</td>\n",
              "    </tr>\n",
              "    <tr>\n",
              "      <th>A6 3.0 Quattro 4dr</th>\n",
              "      <td>3880</td>\n",
              "      <td>$39,640</td>\n",
              "      <td>7760</td>\n",
              "    </tr>\n",
              "    <tr>\n",
              "      <th>A4 3.0 convertible 2dr</th>\n",
              "      <td>3814</td>\n",
              "      <td>$42,490</td>\n",
              "      <td>7628</td>\n",
              "    </tr>\n",
              "  </tbody>\n",
              "</table>\n",
              "</div>"
            ],
            "text/plain": [
              "                         Peso    Preco  PesoX2\n",
              "A4 3.0 Quattro 4dr auto  3627  $34,480    7254\n",
              "A6 3.0 Quattro 4dr       3880  $39,640    7760\n",
              "A4 3.0 convertible 2dr   3814  $42,490    7628"
            ]
          },
          "execution_count": 38,
          "metadata": {},
          "output_type": "execute_result"
        }
      ],
      "source": [
        "# Filtro Peso 1\n",
        "Autos.loc[Autos.Peso >= 3600 ]    #[\"Preco\"]"
      ]
    },
    {
      "cell_type": "code",
      "execution_count": null,
      "metadata": {
        "colab": {
          "base_uri": "https://localhost:8080/",
          "height": 241
        },
        "id": "m8YXEjAQ1zc4",
        "outputId": "8468a37b-45d9-4a46-c2d4-c38b0f76c0ea"
      },
      "outputs": [
        {
          "data": {
            "text/plain": [
              "A4 3.0 Quattro 4dr manual    False\n",
              "A4 3.0 Quattro 4dr auto       True\n",
              "A6 3.0 4dr                   False\n",
              "A6 3.0 Quattro 4dr            True\n",
              "A4 3.0 convertible 2dr        True\n",
              "Name: Peso, dtype: bool"
            ]
          },
          "execution_count": 39,
          "metadata": {},
          "output_type": "execute_result"
        }
      ],
      "source": [
        "filtro = Autos[\"Peso\"] >= 3600\n",
        "filtro"
      ]
    },
    {
      "cell_type": "code",
      "execution_count": null,
      "metadata": {
        "colab": {
          "base_uri": "https://localhost:8080/",
          "height": 143
        },
        "id": "BDlPexYf1_0P",
        "outputId": "5d24e26a-d7c3-49f9-adbd-8db4a07f7570"
      },
      "outputs": [
        {
          "data": {
            "text/html": [
              "<div>\n",
              "<style scoped>\n",
              "    .dataframe tbody tr th:only-of-type {\n",
              "        vertical-align: middle;\n",
              "    }\n",
              "\n",
              "    .dataframe tbody tr th {\n",
              "        vertical-align: top;\n",
              "    }\n",
              "\n",
              "    .dataframe thead th {\n",
              "        text-align: right;\n",
              "    }\n",
              "</style>\n",
              "<table border=\"1\" class=\"dataframe\">\n",
              "  <thead>\n",
              "    <tr style=\"text-align: right;\">\n",
              "      <th></th>\n",
              "      <th>Peso</th>\n",
              "      <th>Preco</th>\n",
              "      <th>PesoX2</th>\n",
              "    </tr>\n",
              "  </thead>\n",
              "  <tbody>\n",
              "    <tr>\n",
              "      <th>A4 3.0 Quattro 4dr auto</th>\n",
              "      <td>3627</td>\n",
              "      <td>$34,480</td>\n",
              "      <td>7254</td>\n",
              "    </tr>\n",
              "    <tr>\n",
              "      <th>A6 3.0 Quattro 4dr</th>\n",
              "      <td>3880</td>\n",
              "      <td>$39,640</td>\n",
              "      <td>7760</td>\n",
              "    </tr>\n",
              "    <tr>\n",
              "      <th>A4 3.0 convertible 2dr</th>\n",
              "      <td>3814</td>\n",
              "      <td>$42,490</td>\n",
              "      <td>7628</td>\n",
              "    </tr>\n",
              "  </tbody>\n",
              "</table>\n",
              "</div>"
            ],
            "text/plain": [
              "                         Peso    Preco  PesoX2\n",
              "A4 3.0 Quattro 4dr auto  3627  $34,480    7254\n",
              "A6 3.0 Quattro 4dr       3880  $39,640    7760\n",
              "A4 3.0 convertible 2dr   3814  $42,490    7628"
            ]
          },
          "execution_count": 40,
          "metadata": {},
          "output_type": "execute_result"
        }
      ],
      "source": [
        "Autos[filtro]"
      ]
    },
    {
      "cell_type": "code",
      "execution_count": null,
      "metadata": {
        "id": "Zv9WCA272KgP"
      },
      "outputs": [],
      "source": []
    },
    {
      "cell_type": "code",
      "execution_count": null,
      "metadata": {
        "colab": {
          "base_uri": "https://localhost:8080/",
          "height": 143
        },
        "id": "RIHzTZL7YIGW",
        "outputId": "fd4f9192-ce1c-45ee-f013-810cc15984f9"
      },
      "outputs": [
        {
          "data": {
            "text/html": [
              "<div>\n",
              "<style scoped>\n",
              "    .dataframe tbody tr th:only-of-type {\n",
              "        vertical-align: middle;\n",
              "    }\n",
              "\n",
              "    .dataframe tbody tr th {\n",
              "        vertical-align: top;\n",
              "    }\n",
              "\n",
              "    .dataframe thead th {\n",
              "        text-align: right;\n",
              "    }\n",
              "</style>\n",
              "<table border=\"1\" class=\"dataframe\">\n",
              "  <thead>\n",
              "    <tr style=\"text-align: right;\">\n",
              "      <th></th>\n",
              "      <th>Peso</th>\n",
              "      <th>Preco</th>\n",
              "      <th>PesoX2</th>\n",
              "    </tr>\n",
              "  </thead>\n",
              "  <tbody>\n",
              "    <tr>\n",
              "      <th>A4 3.0 Quattro 4dr auto</th>\n",
              "      <td>3627</td>\n",
              "      <td>$34,480</td>\n",
              "      <td>7254</td>\n",
              "    </tr>\n",
              "    <tr>\n",
              "      <th>A6 3.0 Quattro 4dr</th>\n",
              "      <td>3880</td>\n",
              "      <td>$39,640</td>\n",
              "      <td>7760</td>\n",
              "    </tr>\n",
              "    <tr>\n",
              "      <th>A4 3.0 convertible 2dr</th>\n",
              "      <td>3814</td>\n",
              "      <td>$42,490</td>\n",
              "      <td>7628</td>\n",
              "    </tr>\n",
              "  </tbody>\n",
              "</table>\n",
              "</div>"
            ],
            "text/plain": [
              "                         Peso    Preco  PesoX2\n",
              "A4 3.0 Quattro 4dr auto  3627  $34,480    7254\n",
              "A6 3.0 Quattro 4dr       3880  $39,640    7760\n",
              "A4 3.0 convertible 2dr   3814  $42,490    7628"
            ]
          },
          "execution_count": 41,
          "metadata": {},
          "output_type": "execute_result"
        }
      ],
      "source": [
        "# Filtro Peso 2\n",
        "Autos[Autos[\"Peso\"] >= 3600]"
      ]
    },
    {
      "cell_type": "code",
      "execution_count": null,
      "metadata": {
        "colab": {
          "base_uri": "https://localhost:8080/",
          "height": 112
        },
        "id": "4QzLmx7KYIDI",
        "outputId": "5efccd87-39bd-4f1c-a7a3-14ab3cffba57"
      },
      "outputs": [
        {
          "data": {
            "text/html": [
              "<div>\n",
              "<style scoped>\n",
              "    .dataframe tbody tr th:only-of-type {\n",
              "        vertical-align: middle;\n",
              "    }\n",
              "\n",
              "    .dataframe tbody tr th {\n",
              "        vertical-align: top;\n",
              "    }\n",
              "\n",
              "    .dataframe thead th {\n",
              "        text-align: right;\n",
              "    }\n",
              "</style>\n",
              "<table border=\"1\" class=\"dataframe\">\n",
              "  <thead>\n",
              "    <tr style=\"text-align: right;\">\n",
              "      <th></th>\n",
              "      <th>Peso</th>\n",
              "      <th>Preco</th>\n",
              "      <th>PesoX2</th>\n",
              "    </tr>\n",
              "  </thead>\n",
              "  <tbody>\n",
              "    <tr>\n",
              "      <th>A4 3.0 Quattro 4dr manual</th>\n",
              "      <td>3583</td>\n",
              "      <td>$33,430</td>\n",
              "      <td>7166</td>\n",
              "    </tr>\n",
              "    <tr>\n",
              "      <th>A6 3.0 4dr</th>\n",
              "      <td>3561</td>\n",
              "      <td>$36,640</td>\n",
              "      <td>7122</td>\n",
              "    </tr>\n",
              "  </tbody>\n",
              "</table>\n",
              "</div>"
            ],
            "text/plain": [
              "                           Peso    Preco  PesoX2\n",
              "A4 3.0 Quattro 4dr manual  3583  $33,430    7166\n",
              "A6 3.0 4dr                 3561  $36,640    7122"
            ]
          },
          "execution_count": 42,
          "metadata": {},
          "output_type": "execute_result"
        }
      ],
      "source": [
        "# Filtro Peso 3\n",
        "Autos[Autos[\"Peso\"] <  3600]"
      ]
    },
    {
      "cell_type": "markdown",
      "metadata": {
        "id": "ysq1yrs7du7n"
      },
      "source": [
        "##--| =="
      ]
    },
    {
      "cell_type": "code",
      "execution_count": null,
      "metadata": {
        "colab": {
          "base_uri": "https://localhost:8080/",
          "height": 241
        },
        "id": "nQHOw_4zzzn1",
        "outputId": "cdf87ff3-dc5f-4d24-fb8d-1bc1151a0178"
      },
      "outputs": [
        {
          "data": {
            "text/plain": [
              "A4 3.0 Quattro 4dr manual    False\n",
              "A4 3.0 Quattro 4dr auto       True\n",
              "A6 3.0 4dr                   False\n",
              "A6 3.0 Quattro 4dr           False\n",
              "A4 3.0 convertible 2dr       False\n",
              "Name: Peso, dtype: bool"
            ]
          },
          "execution_count": 43,
          "metadata": {},
          "output_type": "execute_result"
        }
      ],
      "source": [
        "Autos[\"Peso\"] == 3627"
      ]
    },
    {
      "cell_type": "code",
      "execution_count": null,
      "metadata": {
        "id": "kC14D2yOcmbG",
        "outputId": "f2f73a9d-2cc2-4dd3-b610-daa00babbfb3"
      },
      "outputs": [
        {
          "data": {
            "text/html": [
              "<div>\n",
              "<style scoped>\n",
              "    .dataframe tbody tr th:only-of-type {\n",
              "        vertical-align: middle;\n",
              "    }\n",
              "\n",
              "    .dataframe tbody tr th {\n",
              "        vertical-align: top;\n",
              "    }\n",
              "\n",
              "    .dataframe thead th {\n",
              "        text-align: right;\n",
              "    }\n",
              "</style>\n",
              "<table border=\"1\" class=\"dataframe\">\n",
              "  <thead>\n",
              "    <tr style=\"text-align: right;\">\n",
              "      <th></th>\n",
              "      <th>Peso</th>\n",
              "      <th>Preco</th>\n",
              "      <th>PesoX2</th>\n",
              "    </tr>\n",
              "  </thead>\n",
              "  <tbody>\n",
              "    <tr>\n",
              "      <th>A4 3.0 Quattro 4dr auto</th>\n",
              "      <td>3627</td>\n",
              "      <td>$34,480</td>\n",
              "      <td>7254</td>\n",
              "    </tr>\n",
              "  </tbody>\n",
              "</table>\n",
              "</div>"
            ],
            "text/plain": [
              "                         Peso    Preco  PesoX2\n",
              "A4 3.0 Quattro 4dr auto  3627  $34,480    7254"
            ]
          },
          "execution_count": 44,
          "metadata": {},
          "output_type": "execute_result"
        }
      ],
      "source": [
        "# Filtro Peso 4\n",
        "Autos[Autos[\"Peso\"] == 3627]"
      ]
    },
    {
      "cell_type": "markdown",
      "metadata": {
        "id": "DixTFKo2drgh"
      },
      "source": [
        "##--| !="
      ]
    },
    {
      "cell_type": "code",
      "execution_count": null,
      "metadata": {
        "id": "Qiz41A7Scvgh",
        "outputId": "502e7726-d1d4-433a-9792-9c6ee4608134"
      },
      "outputs": [
        {
          "data": {
            "text/html": [
              "<div>\n",
              "<style scoped>\n",
              "    .dataframe tbody tr th:only-of-type {\n",
              "        vertical-align: middle;\n",
              "    }\n",
              "\n",
              "    .dataframe tbody tr th {\n",
              "        vertical-align: top;\n",
              "    }\n",
              "\n",
              "    .dataframe thead th {\n",
              "        text-align: right;\n",
              "    }\n",
              "</style>\n",
              "<table border=\"1\" class=\"dataframe\">\n",
              "  <thead>\n",
              "    <tr style=\"text-align: right;\">\n",
              "      <th></th>\n",
              "      <th>Peso</th>\n",
              "      <th>Preco</th>\n",
              "      <th>PesoX2</th>\n",
              "    </tr>\n",
              "  </thead>\n",
              "  <tbody>\n",
              "    <tr>\n",
              "      <th>A4 3.0 Quattro 4dr manual</th>\n",
              "      <td>3583</td>\n",
              "      <td>$33,430</td>\n",
              "      <td>7166</td>\n",
              "    </tr>\n",
              "    <tr>\n",
              "      <th>A6 3.0 4dr</th>\n",
              "      <td>3561</td>\n",
              "      <td>$36,640</td>\n",
              "      <td>7122</td>\n",
              "    </tr>\n",
              "    <tr>\n",
              "      <th>A6 3.0 Quattro 4dr</th>\n",
              "      <td>3880</td>\n",
              "      <td>$39,640</td>\n",
              "      <td>7760</td>\n",
              "    </tr>\n",
              "    <tr>\n",
              "      <th>A4 3.0 convertible 2dr</th>\n",
              "      <td>3814</td>\n",
              "      <td>$42,490</td>\n",
              "      <td>7628</td>\n",
              "    </tr>\n",
              "  </tbody>\n",
              "</table>\n",
              "</div>"
            ],
            "text/plain": [
              "                           Peso    Preco  PesoX2\n",
              "A4 3.0 Quattro 4dr manual  3583  $33,430    7166\n",
              "A6 3.0 4dr                 3561  $36,640    7122\n",
              "A6 3.0 Quattro 4dr         3880  $39,640    7760\n",
              "A4 3.0 convertible 2dr     3814  $42,490    7628"
            ]
          },
          "execution_count": 45,
          "metadata": {},
          "output_type": "execute_result"
        }
      ],
      "source": [
        "# Filtro Peso 4\n",
        "Autos[Autos[\"Peso\"] != 3627]"
      ]
    },
    {
      "cell_type": "markdown",
      "metadata": {
        "id": "_u5MTcSQdn9-"
      },
      "source": [
        "##--| isin"
      ]
    },
    {
      "cell_type": "code",
      "execution_count": null,
      "metadata": {
        "colab": {
          "base_uri": "https://localhost:8080/",
          "height": 112
        },
        "id": "gFm8ma7cc3Wn",
        "outputId": "8af4f690-34f2-432b-bc79-f52701652a4d"
      },
      "outputs": [
        {
          "data": {
            "text/html": [
              "<div>\n",
              "<style scoped>\n",
              "    .dataframe tbody tr th:only-of-type {\n",
              "        vertical-align: middle;\n",
              "    }\n",
              "\n",
              "    .dataframe tbody tr th {\n",
              "        vertical-align: top;\n",
              "    }\n",
              "\n",
              "    .dataframe thead th {\n",
              "        text-align: right;\n",
              "    }\n",
              "</style>\n",
              "<table border=\"1\" class=\"dataframe\">\n",
              "  <thead>\n",
              "    <tr style=\"text-align: right;\">\n",
              "      <th></th>\n",
              "      <th>Peso</th>\n",
              "      <th>Preco</th>\n",
              "      <th>PesoX2</th>\n",
              "    </tr>\n",
              "  </thead>\n",
              "  <tbody>\n",
              "    <tr>\n",
              "      <th>A6 3.0 4dr</th>\n",
              "      <td>3561</td>\n",
              "      <td>$36,640</td>\n",
              "      <td>7122</td>\n",
              "    </tr>\n",
              "    <tr>\n",
              "      <th>A6 3.0 Quattro 4dr</th>\n",
              "      <td>3880</td>\n",
              "      <td>$39,640</td>\n",
              "      <td>7760</td>\n",
              "    </tr>\n",
              "  </tbody>\n",
              "</table>\n",
              "</div>"
            ],
            "text/plain": [
              "                    Peso    Preco  PesoX2\n",
              "A6 3.0 4dr          3561  $36,640    7122\n",
              "A6 3.0 Quattro 4dr  3880  $39,640    7760"
            ]
          },
          "execution_count": 46,
          "metadata": {},
          "output_type": "execute_result"
        }
      ],
      "source": [
        "# Filtro Peso 4\n",
        "Autos[Autos[\"Peso\"].isin([3561,3880])]"
      ]
    },
    {
      "cell_type": "code",
      "execution_count": null,
      "metadata": {
        "colab": {
          "base_uri": "https://localhost:8080/",
          "height": 146
        },
        "id": "vC7Zxgs-dJ5J",
        "outputId": "ad63d1ce-e803-4a58-fe56-e82c0db69120"
      },
      "outputs": [
        {
          "data": {
            "text/plain": [
              "A6 3.0 4dr            $36,640\n",
              "A6 3.0 Quattro 4dr    $39,640\n",
              "Name: Preco, dtype: object"
            ]
          },
          "execution_count": 47,
          "metadata": {},
          "output_type": "execute_result"
        }
      ],
      "source": [
        "# Filtro colunas e linhas loc 1\n",
        "Autos.loc[Autos[\"Peso\"].isin([3561,3880]), \"Preco\"]"
      ]
    },
    {
      "cell_type": "code",
      "execution_count": null,
      "metadata": {
        "colab": {
          "base_uri": "https://localhost:8080/",
          "height": 146
        },
        "id": "XvnqVbS-ebKu",
        "outputId": "2e4966c3-85a9-498a-98bc-2d5db5081370"
      },
      "outputs": [
        {
          "data": {
            "text/plain": [
              "A6 3.0 4dr            $36,640\n",
              "A6 3.0 Quattro 4dr    $39,640\n",
              "Name: Preco, dtype: object"
            ]
          },
          "execution_count": 48,
          "metadata": {},
          "output_type": "execute_result"
        }
      ],
      "source": [
        "# Filtro colunas e linhas 2\n",
        "Autos[Autos[\"Peso\"].isin([3561, 3880])][\"Preco\"]"
      ]
    },
    {
      "cell_type": "markdown",
      "metadata": {
        "id": "9eAVncy-id1X"
      },
      "source": [
        "# Operações no Pandas Transpose\n"
      ]
    },
    {
      "cell_type": "code",
      "execution_count": null,
      "metadata": {
        "colab": {
          "base_uri": "https://localhost:8080/",
          "height": 206
        },
        "id": "2zqzYzJs0f_X",
        "outputId": "a3c52860-4534-4583-d4d8-e7b309999452"
      },
      "outputs": [
        {
          "data": {
            "text/html": [
              "<div>\n",
              "<style scoped>\n",
              "    .dataframe tbody tr th:only-of-type {\n",
              "        vertical-align: middle;\n",
              "    }\n",
              "\n",
              "    .dataframe tbody tr th {\n",
              "        vertical-align: top;\n",
              "    }\n",
              "\n",
              "    .dataframe thead th {\n",
              "        text-align: right;\n",
              "    }\n",
              "</style>\n",
              "<table border=\"1\" class=\"dataframe\">\n",
              "  <thead>\n",
              "    <tr style=\"text-align: right;\">\n",
              "      <th></th>\n",
              "      <th>Peso</th>\n",
              "      <th>Preco</th>\n",
              "      <th>PesoX2</th>\n",
              "    </tr>\n",
              "  </thead>\n",
              "  <tbody>\n",
              "    <tr>\n",
              "      <th>A4 3.0 Quattro 4dr manual</th>\n",
              "      <td>3583</td>\n",
              "      <td>$33,430</td>\n",
              "      <td>7166</td>\n",
              "    </tr>\n",
              "    <tr>\n",
              "      <th>A4 3.0 Quattro 4dr auto</th>\n",
              "      <td>3627</td>\n",
              "      <td>$34,480</td>\n",
              "      <td>7254</td>\n",
              "    </tr>\n",
              "    <tr>\n",
              "      <th>A6 3.0 4dr</th>\n",
              "      <td>3561</td>\n",
              "      <td>$36,640</td>\n",
              "      <td>7122</td>\n",
              "    </tr>\n",
              "    <tr>\n",
              "      <th>A6 3.0 Quattro 4dr</th>\n",
              "      <td>3880</td>\n",
              "      <td>$39,640</td>\n",
              "      <td>7760</td>\n",
              "    </tr>\n",
              "    <tr>\n",
              "      <th>A4 3.0 convertible 2dr</th>\n",
              "      <td>3814</td>\n",
              "      <td>$42,490</td>\n",
              "      <td>7628</td>\n",
              "    </tr>\n",
              "  </tbody>\n",
              "</table>\n",
              "</div>"
            ],
            "text/plain": [
              "                           Peso    Preco  PesoX2\n",
              "A4 3.0 Quattro 4dr manual  3583  $33,430    7166\n",
              "A4 3.0 Quattro 4dr auto    3627  $34,480    7254\n",
              "A6 3.0 4dr                 3561  $36,640    7122\n",
              "A6 3.0 Quattro 4dr         3880  $39,640    7760\n",
              "A4 3.0 convertible 2dr     3814  $42,490    7628"
            ]
          },
          "execution_count": 49,
          "metadata": {},
          "output_type": "execute_result"
        }
      ],
      "source": [
        "Autos"
      ]
    },
    {
      "cell_type": "code",
      "execution_count": null,
      "metadata": {
        "colab": {
          "base_uri": "https://localhost:8080/",
          "height": 143
        },
        "id": "T9D3_zNTidir",
        "outputId": "c2fdf25a-e8b7-4334-f2ec-6a0a7c399de2"
      },
      "outputs": [
        {
          "data": {
            "text/html": [
              "<div>\n",
              "<style scoped>\n",
              "    .dataframe tbody tr th:only-of-type {\n",
              "        vertical-align: middle;\n",
              "    }\n",
              "\n",
              "    .dataframe tbody tr th {\n",
              "        vertical-align: top;\n",
              "    }\n",
              "\n",
              "    .dataframe thead th {\n",
              "        text-align: right;\n",
              "    }\n",
              "</style>\n",
              "<table border=\"1\" class=\"dataframe\">\n",
              "  <thead>\n",
              "    <tr style=\"text-align: right;\">\n",
              "      <th></th>\n",
              "      <th>A4 3.0 Quattro 4dr manual</th>\n",
              "      <th>A4 3.0 Quattro 4dr auto</th>\n",
              "      <th>A6 3.0 4dr</th>\n",
              "      <th>A6 3.0 Quattro 4dr</th>\n",
              "      <th>A4 3.0 convertible 2dr</th>\n",
              "    </tr>\n",
              "  </thead>\n",
              "  <tbody>\n",
              "    <tr>\n",
              "      <th>Peso</th>\n",
              "      <td>3583</td>\n",
              "      <td>3627</td>\n",
              "      <td>3561</td>\n",
              "      <td>3880</td>\n",
              "      <td>3814</td>\n",
              "    </tr>\n",
              "    <tr>\n",
              "      <th>Preco</th>\n",
              "      <td>$33,430</td>\n",
              "      <td>$34,480</td>\n",
              "      <td>$36,640</td>\n",
              "      <td>$39,640</td>\n",
              "      <td>$42,490</td>\n",
              "    </tr>\n",
              "    <tr>\n",
              "      <th>PesoX2</th>\n",
              "      <td>7166</td>\n",
              "      <td>7254</td>\n",
              "      <td>7122</td>\n",
              "      <td>7760</td>\n",
              "      <td>7628</td>\n",
              "    </tr>\n",
              "  </tbody>\n",
              "</table>\n",
              "</div>"
            ],
            "text/plain": [
              "       A4 3.0 Quattro 4dr manual A4 3.0 Quattro 4dr auto A6 3.0 4dr  \\\n",
              "Peso                        3583                    3627       3561   \n",
              "Preco                    $33,430                 $34,480    $36,640   \n",
              "PesoX2                      7166                    7254       7122   \n",
              "\n",
              "       A6 3.0 Quattro 4dr A4 3.0 convertible 2dr  \n",
              "Peso                 3880                   3814  \n",
              "Preco             $39,640                $42,490  \n",
              "PesoX2               7760                   7628  "
            ]
          },
          "execution_count": 50,
          "metadata": {},
          "output_type": "execute_result"
        }
      ],
      "source": [
        "Autos.T"
      ]
    },
    {
      "cell_type": "code",
      "execution_count": null,
      "metadata": {
        "id": "RmH9Cx9tkmtv",
        "outputId": "162247ef-1337-48a1-9c78-ca32d72a1944"
      },
      "outputs": [
        {
          "data": {
            "text/html": [
              "<div>\n",
              "<style scoped>\n",
              "    .dataframe tbody tr th:only-of-type {\n",
              "        vertical-align: middle;\n",
              "    }\n",
              "\n",
              "    .dataframe tbody tr th {\n",
              "        vertical-align: top;\n",
              "    }\n",
              "\n",
              "    .dataframe thead th {\n",
              "        text-align: right;\n",
              "    }\n",
              "</style>\n",
              "<table border=\"1\" class=\"dataframe\">\n",
              "  <thead>\n",
              "    <tr style=\"text-align: right;\">\n",
              "      <th></th>\n",
              "      <th>Peso</th>\n",
              "      <th>Preco</th>\n",
              "      <th>PesoX2</th>\n",
              "    </tr>\n",
              "  </thead>\n",
              "  <tbody>\n",
              "    <tr>\n",
              "      <th>A4 3.0 Quattro 4dr manual</th>\n",
              "      <td>3583</td>\n",
              "      <td>$33,430</td>\n",
              "      <td>7166</td>\n",
              "    </tr>\n",
              "    <tr>\n",
              "      <th>A4 3.0 Quattro 4dr auto</th>\n",
              "      <td>3627</td>\n",
              "      <td>$34,480</td>\n",
              "      <td>7254</td>\n",
              "    </tr>\n",
              "    <tr>\n",
              "      <th>A6 3.0 4dr</th>\n",
              "      <td>3561</td>\n",
              "      <td>$36,640</td>\n",
              "      <td>7122</td>\n",
              "    </tr>\n",
              "    <tr>\n",
              "      <th>A6 3.0 Quattro 4dr</th>\n",
              "      <td>3880</td>\n",
              "      <td>$39,640</td>\n",
              "      <td>7760</td>\n",
              "    </tr>\n",
              "    <tr>\n",
              "      <th>A4 3.0 convertible 2dr</th>\n",
              "      <td>3814</td>\n",
              "      <td>$42,490</td>\n",
              "      <td>7628</td>\n",
              "    </tr>\n",
              "  </tbody>\n",
              "</table>\n",
              "</div>"
            ],
            "text/plain": [
              "                           Peso    Preco  PesoX2\n",
              "A4 3.0 Quattro 4dr manual  3583  $33,430    7166\n",
              "A4 3.0 Quattro 4dr auto    3627  $34,480    7254\n",
              "A6 3.0 4dr                 3561  $36,640    7122\n",
              "A6 3.0 Quattro 4dr         3880  $39,640    7760\n",
              "A4 3.0 convertible 2dr     3814  $42,490    7628"
            ]
          },
          "execution_count": 51,
          "metadata": {},
          "output_type": "execute_result"
        }
      ],
      "source": [
        "Autos"
      ]
    },
    {
      "cell_type": "markdown",
      "metadata": {
        "id": "Jpnublx6lLdi"
      },
      "source": [
        "# Operações vetorizadas"
      ]
    },
    {
      "cell_type": "code",
      "execution_count": null,
      "metadata": {
        "colab": {
          "base_uri": "https://localhost:8080/",
          "height": 206
        },
        "id": "yALvnGKMlOgI",
        "outputId": "9d2b04c5-d18c-4eb9-da1b-b4a46e77be36"
      },
      "outputs": [
        {
          "data": {
            "text/html": [
              "<div>\n",
              "<style scoped>\n",
              "    .dataframe tbody tr th:only-of-type {\n",
              "        vertical-align: middle;\n",
              "    }\n",
              "\n",
              "    .dataframe tbody tr th {\n",
              "        vertical-align: top;\n",
              "    }\n",
              "\n",
              "    .dataframe thead th {\n",
              "        text-align: right;\n",
              "    }\n",
              "</style>\n",
              "<table border=\"1\" class=\"dataframe\">\n",
              "  <thead>\n",
              "    <tr style=\"text-align: right;\">\n",
              "      <th></th>\n",
              "      <th>Peso</th>\n",
              "      <th>Volume</th>\n",
              "    </tr>\n",
              "  </thead>\n",
              "  <tbody>\n",
              "    <tr>\n",
              "      <th>0</th>\n",
              "      <td>3583</td>\n",
              "      <td>10</td>\n",
              "    </tr>\n",
              "    <tr>\n",
              "      <th>1</th>\n",
              "      <td>3627</td>\n",
              "      <td>5</td>\n",
              "    </tr>\n",
              "    <tr>\n",
              "      <th>2</th>\n",
              "      <td>3561</td>\n",
              "      <td>45</td>\n",
              "    </tr>\n",
              "    <tr>\n",
              "      <th>3</th>\n",
              "      <td>3880</td>\n",
              "      <td>32</td>\n",
              "    </tr>\n",
              "    <tr>\n",
              "      <th>4</th>\n",
              "      <td>3814</td>\n",
              "      <td>15</td>\n",
              "    </tr>\n",
              "  </tbody>\n",
              "</table>\n",
              "</div>"
            ],
            "text/plain": [
              "   Peso  Volume\n",
              "0  3583      10\n",
              "1  3627       5\n",
              "2  3561      45\n",
              "3  3880      32\n",
              "4  3814      15"
            ]
          },
          "execution_count": 52,
          "metadata": {},
          "output_type": "execute_result"
        }
      ],
      "source": [
        "peso   = [3583, 3627, 3561, 3880, 3814]\n",
        "volume = [10, 5, 45, 32, 15]\n",
        "\n",
        "Autos_2 = pd.DataFrame({'Peso':peso, 'Volume':volume})\n",
        "Autos_2"
      ]
    },
    {
      "cell_type": "code",
      "execution_count": null,
      "metadata": {
        "colab": {
          "base_uri": "https://localhost:8080/"
        },
        "id": "3E3uqgw93kzb",
        "outputId": "3fdfdf08-039a-40ca-94a7-24112369be25"
      },
      "outputs": [
        {
          "data": {
            "text/plain": [
              "np.int64(107)"
            ]
          },
          "execution_count": 53,
          "metadata": {},
          "output_type": "execute_result"
        }
      ],
      "source": [
        "Autos_2[\"Volume\"].sum()"
      ]
    },
    {
      "cell_type": "code",
      "execution_count": null,
      "metadata": {
        "colab": {
          "base_uri": "https://localhost:8080/",
          "height": 206
        },
        "id": "jtJc3IcomEoa",
        "outputId": "1f3393a2-7de5-406e-ab96-5c7eb20d4e1e"
      },
      "outputs": [
        {
          "data": {
            "text/html": [
              "<div>\n",
              "<style scoped>\n",
              "    .dataframe tbody tr th:only-of-type {\n",
              "        vertical-align: middle;\n",
              "    }\n",
              "\n",
              "    .dataframe tbody tr th {\n",
              "        vertical-align: top;\n",
              "    }\n",
              "\n",
              "    .dataframe thead th {\n",
              "        text-align: right;\n",
              "    }\n",
              "</style>\n",
              "<table border=\"1\" class=\"dataframe\">\n",
              "  <thead>\n",
              "    <tr style=\"text-align: right;\">\n",
              "      <th></th>\n",
              "      <th>Peso</th>\n",
              "      <th>Volume</th>\n",
              "      <th>Pc_volume</th>\n",
              "    </tr>\n",
              "  </thead>\n",
              "  <tbody>\n",
              "    <tr>\n",
              "      <th>0</th>\n",
              "      <td>3583</td>\n",
              "      <td>10</td>\n",
              "      <td>9.345794</td>\n",
              "    </tr>\n",
              "    <tr>\n",
              "      <th>1</th>\n",
              "      <td>3627</td>\n",
              "      <td>5</td>\n",
              "      <td>4.672897</td>\n",
              "    </tr>\n",
              "    <tr>\n",
              "      <th>2</th>\n",
              "      <td>3561</td>\n",
              "      <td>45</td>\n",
              "      <td>42.056075</td>\n",
              "    </tr>\n",
              "    <tr>\n",
              "      <th>3</th>\n",
              "      <td>3880</td>\n",
              "      <td>32</td>\n",
              "      <td>29.906542</td>\n",
              "    </tr>\n",
              "    <tr>\n",
              "      <th>4</th>\n",
              "      <td>3814</td>\n",
              "      <td>15</td>\n",
              "      <td>14.018692</td>\n",
              "    </tr>\n",
              "  </tbody>\n",
              "</table>\n",
              "</div>"
            ],
            "text/plain": [
              "   Peso  Volume  Pc_volume\n",
              "0  3583      10   9.345794\n",
              "1  3627       5   4.672897\n",
              "2  3561      45  42.056075\n",
              "3  3880      32  29.906542\n",
              "4  3814      15  14.018692"
            ]
          },
          "execution_count": 54,
          "metadata": {},
          "output_type": "execute_result"
        }
      ],
      "source": [
        "Autos_2[\"Pc_volume\"] = (Autos_2[\"Volume\"]/ Autos_2[\"Volume\"].sum())*100\n",
        "Autos_2"
      ]
    },
    {
      "cell_type": "code",
      "execution_count": null,
      "metadata": {
        "colab": {
          "base_uri": "https://localhost:8080/",
          "height": 241
        },
        "id": "4-6kEWtE0xqE",
        "outputId": "9cd72035-ec0e-4258-9a26-334ae3d66ac1"
      },
      "outputs": [
        {
          "data": {
            "text/plain": [
              "0    3593\n",
              "1    3632\n",
              "2    3606\n",
              "3    3912\n",
              "4    3829\n",
              "dtype: int64"
            ]
          },
          "execution_count": 55,
          "metadata": {},
          "output_type": "execute_result"
        }
      ],
      "source": [
        "Autos_2[\"Peso\"]+Autos_2[\"Volume\"]"
      ]
    },
    {
      "cell_type": "code",
      "execution_count": null,
      "metadata": {
        "colab": {
          "base_uri": "https://localhost:8080/",
          "height": 112
        },
        "id": "t1CEw9G739Jw",
        "outputId": "9f272f2c-6c76-41cd-a5e5-86526563c1da"
      },
      "outputs": [
        {
          "data": {
            "text/html": [
              "<div>\n",
              "<style scoped>\n",
              "    .dataframe tbody tr th:only-of-type {\n",
              "        vertical-align: middle;\n",
              "    }\n",
              "\n",
              "    .dataframe tbody tr th {\n",
              "        vertical-align: top;\n",
              "    }\n",
              "\n",
              "    .dataframe thead th {\n",
              "        text-align: right;\n",
              "    }\n",
              "</style>\n",
              "<table border=\"1\" class=\"dataframe\">\n",
              "  <thead>\n",
              "    <tr style=\"text-align: right;\">\n",
              "      <th></th>\n",
              "      <th>Peso</th>\n",
              "      <th>Volume</th>\n",
              "      <th>Pc_volume</th>\n",
              "    </tr>\n",
              "  </thead>\n",
              "  <tbody>\n",
              "    <tr>\n",
              "      <th>0</th>\n",
              "      <td>3583</td>\n",
              "      <td>10</td>\n",
              "      <td>9.345794</td>\n",
              "    </tr>\n",
              "    <tr>\n",
              "      <th>1</th>\n",
              "      <td>3627</td>\n",
              "      <td>5</td>\n",
              "      <td>4.672897</td>\n",
              "    </tr>\n",
              "  </tbody>\n",
              "</table>\n",
              "</div>"
            ],
            "text/plain": [
              "   Peso  Volume  Pc_volume\n",
              "0  3583      10   9.345794\n",
              "1  3627       5   4.672897"
            ]
          },
          "execution_count": 56,
          "metadata": {},
          "output_type": "execute_result"
        }
      ],
      "source": [
        "Autos_2.iloc[:2,]"
      ]
    },
    {
      "cell_type": "code",
      "execution_count": null,
      "metadata": {
        "colab": {
          "base_uri": "https://localhost:8080/",
          "height": 241
        },
        "id": "sfRijzbF4ENH",
        "outputId": "c1f96022-58a9-4530-fa0b-acc400d998bb"
      },
      "outputs": [
        {
          "data": {
            "text/plain": [
              "0    10\n",
              "1     5\n",
              "2    45\n",
              "3    32\n",
              "4    15\n",
              "Name: Volume, dtype: int64"
            ]
          },
          "execution_count": 57,
          "metadata": {},
          "output_type": "execute_result"
        }
      ],
      "source": [
        "Autos_2[\"Volume\"]"
      ]
    },
    {
      "cell_type": "code",
      "execution_count": null,
      "metadata": {
        "colab": {
          "base_uri": "https://localhost:8080/",
          "height": 241
        },
        "id": "sd-DhOsMy7vj",
        "outputId": "c7885735-35e9-4aac-cc0c-2939464eded1"
      },
      "outputs": [
        {
          "data": {
            "text/plain": [
              "0    3593.0\n",
              "1    3632.0\n",
              "2       NaN\n",
              "3       NaN\n",
              "4       NaN\n",
              "dtype: float64"
            ]
          },
          "execution_count": 58,
          "metadata": {},
          "output_type": "execute_result"
        }
      ],
      "source": [
        "Autos_2.iloc[:2,][\"Peso\"]+Autos_2[\"Volume\"]"
      ]
    },
    {
      "cell_type": "markdown",
      "metadata": {
        "id": "mS4Jgk4psM3V"
      },
      "source": [
        "## Soma comum"
      ]
    },
    {
      "cell_type": "code",
      "execution_count": null,
      "metadata": {
        "colab": {
          "base_uri": "https://localhost:8080/",
          "height": 206
        },
        "id": "vbIQFXe3q-mB",
        "outputId": "50971d68-cefd-45e6-ee64-065c456c2ee6"
      },
      "outputs": [
        {
          "data": {
            "text/html": [
              "<div>\n",
              "<style scoped>\n",
              "    .dataframe tbody tr th:only-of-type {\n",
              "        vertical-align: middle;\n",
              "    }\n",
              "\n",
              "    .dataframe tbody tr th {\n",
              "        vertical-align: top;\n",
              "    }\n",
              "\n",
              "    .dataframe thead th {\n",
              "        text-align: right;\n",
              "    }\n",
              "</style>\n",
              "<table border=\"1\" class=\"dataframe\">\n",
              "  <thead>\n",
              "    <tr style=\"text-align: right;\">\n",
              "      <th></th>\n",
              "      <th>Peso</th>\n",
              "      <th>Volume</th>\n",
              "      <th>Pc_volume</th>\n",
              "      <th>soma</th>\n",
              "    </tr>\n",
              "  </thead>\n",
              "  <tbody>\n",
              "    <tr>\n",
              "      <th>0</th>\n",
              "      <td>3583</td>\n",
              "      <td>10</td>\n",
              "      <td>9.345794</td>\n",
              "      <td>3593</td>\n",
              "    </tr>\n",
              "    <tr>\n",
              "      <th>1</th>\n",
              "      <td>3627</td>\n",
              "      <td>5</td>\n",
              "      <td>4.672897</td>\n",
              "      <td>3632</td>\n",
              "    </tr>\n",
              "    <tr>\n",
              "      <th>2</th>\n",
              "      <td>3561</td>\n",
              "      <td>45</td>\n",
              "      <td>42.056075</td>\n",
              "      <td>3606</td>\n",
              "    </tr>\n",
              "    <tr>\n",
              "      <th>3</th>\n",
              "      <td>3880</td>\n",
              "      <td>32</td>\n",
              "      <td>29.906542</td>\n",
              "      <td>3912</td>\n",
              "    </tr>\n",
              "    <tr>\n",
              "      <th>4</th>\n",
              "      <td>3814</td>\n",
              "      <td>15</td>\n",
              "      <td>14.018692</td>\n",
              "      <td>3829</td>\n",
              "    </tr>\n",
              "  </tbody>\n",
              "</table>\n",
              "</div>"
            ],
            "text/plain": [
              "   Peso  Volume  Pc_volume  soma\n",
              "0  3583      10   9.345794  3593\n",
              "1  3627       5   4.672897  3632\n",
              "2  3561      45  42.056075  3606\n",
              "3  3880      32  29.906542  3912\n",
              "4  3814      15  14.018692  3829"
            ]
          },
          "execution_count": 59,
          "metadata": {},
          "output_type": "execute_result"
        }
      ],
      "source": [
        "Autos_2[\"soma\"] = Autos_2[\"Peso\"]+Autos_2[\"Volume\"]\n",
        "Autos_2"
      ]
    },
    {
      "cell_type": "markdown",
      "metadata": {
        "id": "f2QaKMDpsQEI"
      },
      "source": [
        "## Soma missing"
      ]
    },
    {
      "cell_type": "code",
      "execution_count": null,
      "metadata": {
        "id": "2BbZ7r4TtZ8g",
        "outputId": "8dc71b66-ae1e-4f0f-d172-1199dd849757"
      },
      "outputs": [
        {
          "data": {
            "text/plain": [
              "0    3583\n",
              "1    3627\n",
              "Name: Peso, dtype: int64"
            ]
          },
          "execution_count": 60,
          "metadata": {},
          "output_type": "execute_result"
        }
      ],
      "source": [
        "Autos_2.iloc[:2,][\"Peso\"]"
      ]
    },
    {
      "cell_type": "code",
      "execution_count": null,
      "metadata": {
        "colab": {
          "base_uri": "https://localhost:8080/",
          "height": 241
        },
        "id": "auYFduAmrv1J",
        "outputId": "2e1ce30e-4332-4b2c-dbab-0501d63c559f"
      },
      "outputs": [
        {
          "data": {
            "text/plain": [
              "0    3593.0\n",
              "1    3632.0\n",
              "2       NaN\n",
              "3       NaN\n",
              "4       NaN\n",
              "dtype: float64"
            ]
          },
          "execution_count": 61,
          "metadata": {},
          "output_type": "execute_result"
        }
      ],
      "source": [
        "Autos_2.iloc[:2,][\"Peso\"]+Autos_2[\"Volume\"]"
      ]
    }
  ],
  "metadata": {
    "colab": {
      "provenance": [],
      "include_colab_link": true
    },
    "kernelspec": {
      "display_name": "Python 3",
      "name": "python3"
    },
    "language_info": {
      "codemirror_mode": {
        "name": "ipython",
        "version": 3
      },
      "file_extension": ".py",
      "mimetype": "text/x-python",
      "name": "python",
      "nbconvert_exporter": "python",
      "pygments_lexer": "ipython3",
      "version": "3.12.5"
    }
  },
  "nbformat": 4,
  "nbformat_minor": 0
}